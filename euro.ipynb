{
 "cells": [
  {
   "cell_type": "markdown",
   "id": "9f6d5485-25eb-4569-8892-b0cd5c47c047",
   "metadata": {},
   "source": [
    "## Jak predobrzyłem w rywalizacji przeciwko dziennikarzom sportowym?\n",
    "\n",
    "W czewrcu 2024 roku dostałem zaproszenie do firmowej ligi fantasy przewidywania meczów Euro 2024. A że moim pracodawcą był Eurosport, to moimi rywalami byli dziennikarze sportowi. Czułem, że przeciwko nim moje szanse są marne, więc postanowiłem wsprzeć się Pythonem.\n",
    "\n",
    "Liga fantasy polegała na przewidywaniu dokładnych wyników meczów. Punkty zdobywało się przy poprawnym obstawieniu wyniku, zwycięzcy, liczby strzelonych goli etc.\n",
    "\n",
    "Od razu pomyślałem o wykorzystaniu do tego rankigu elo. Wiedziałem, że są prowadzone rankingi drużyn narodowych wg. elo [biorące pod uwagę całą historę meczów międzynarodowych]. (https://eloratings.net)\n",
    "\n",
    "Musiałem jednak zrosumieć dokładnie, jak można w ten sposób obliczyć szane na zwycięstwo jednej czy drugiej strony. \n",
    "\n",
    "Poniższy wzór podaje oczekiwany wynik gracza A (w skali 1 za zwycięstwo, 0 za porażkę), gdzie R_a - to liczba punktów Elo gracza A i R_b - to liczba punktów Elo gracza B."
   ]
  },
  {
   "cell_type": "markdown",
   "id": "11a8bd13-bc52-4e9c-8160-1752ceab07c0",
   "metadata": {},
   "source": [
    "![](img.svg)"
   ]
  },
  {
   "cell_type": "code",
   "execution_count": 1,
   "id": "061722d5-bb9e-4b3c-aec6-66b8c4cf731f",
   "metadata": {},
   "outputs": [
    {
     "data": {
      "text/plain": [
       "0.7033850034718286"
      ]
     },
     "execution_count": 1,
     "metadata": {},
     "output_type": "execute_result"
    }
   ],
   "source": [
    "#Rannking Holandii przed Euro\n",
    "elo1 = 1920\n",
    "#Ranking Polski przed Euro\n",
    "elo2 = 1770\n",
    "\n",
    "p_1 = 1/(1 + 10**((elo2-elo1)/400))\n",
    "p_1"
   ]
  },
  {
   "cell_type": "markdown",
   "id": "bd64911b-4a09-4f60-bb54-2f0e33d55320",
   "metadata": {},
   "source": [
    "Czy to oznacza, że Holandia miała 70% szans na zwycięstwo z Polską? Nie. To był jej oczekiwany wynik, na który składa się szansa na zwycięstwo oraz 1/2 szansy na remis.\n",
    "\n",
    "Jak w takim razie obliczyć szansę na remis? W originalnym systemie Elo nie ma na to żadnego wzoru, natomiast w jednym z artykułów naukowych znalazłam taki wzór. "
   ]
  },
  {
   "cell_type": "markdown",
   "id": "b690159e-5697-402c-9cc0-6c390e88ac00",
   "metadata": {},
   "source": [
    "![](imgelo.jpg)"
   ]
  },
  {
   "cell_type": "markdown",
   "id": "23634298-91c5-4f5c-9682-8d12376fff4e",
   "metadata": {},
   "source": [
    "Gdzie dr to różnica pomiędy elo obu graczy."
   ]
  },
  {
   "cell_type": "markdown",
   "id": "be957bd4-ffc7-44c1-9161-7aa9f189eef2",
   "metadata": {},
   "source": [
    "Xiong, Shuo & Yang, Liang & Azan, Nor & Mat Zin, Nor Azan & Iida, Hiroyuki. (2016). Mathematical Model of Ranking Accuracy and Popularity Promotion. 10.1109/ICSAI.2016.7810980. \n",
    "[dostęp: 26.09.2024] https://www.researchgate.net/publication/309662241_Mathematical_Model_of_Ranking_Accuracy_and_Popularity_Promotion\n",
    "Początkowo znaleziono tutaj: https://www.reddit.com/r/excel/comments/kivm21/calculating_probability_for_a_draw_based_on_elo/"
   ]
  },
  {
   "cell_type": "code",
   "execution_count": 2,
   "id": "147bd6d6-a15a-488f-aa60-851fe091c897",
   "metadata": {},
   "outputs": [],
   "source": [
    "import numpy as np"
   ]
  },
  {
   "cell_type": "code",
   "execution_count": 3,
   "id": "2ed1cf19-2f00-4913-8d76-7d8b0997d55b",
   "metadata": {},
   "outputs": [
    {
     "name": "stdout",
     "output_type": "stream",
     "text": [
      "Szansa na remis: 0.2261388303282616\n"
     ]
    }
   ],
   "source": [
    "p_1 = 1/(1 + 10**((elo2-elo1)/400))\n",
    "p_2 = 1 - p_1\n",
    "\n",
    "dr = elo1-elo2\n",
    "dr = 200\n",
    "p_d = (1/(np.sqrt(2 * np.pi*np.e))) * (np.exp((-((dr/200)**2) / (2*(np.e**2)))))\n",
    "\n",
    "print(f\"Szansa na remis: {p_d}\")\n"
   ]
  },
  {
   "cell_type": "code",
   "execution_count": 4,
   "id": "117f3ef1-b4dd-4b50-b6ce-7eaa540c5edb",
   "metadata": {},
   "outputs": [
    {
     "name": "stdout",
     "output_type": "stream",
     "text": [
      "P(draw elo) = 0.12742462564645288\n"
     ]
    }
   ],
   "source": [
    "import numpy as np\n",
    "\n",
    "def P_draw_elo(dr, e):\n",
    "    # Constants\n",
    "    pi = np.pi\n",
    "    factor = 200\n",
    "    \n",
    "    # Compute the probability\n",
    "    result = (1 / np.sqrt(2 * pi * e**2)) * np.exp(-(dr / factor)**2 / (2 * e**2))\n",
    "    return result\n",
    "\n",
    "# Example usage with sample values\n",
    "dr = 289  # Example value for dr\n",
    "e = np.e  # Example value for e\n",
    "\n",
    "# Calculate the probability\n",
    "probability = P_draw_elo(dr, e)\n",
    "print(f\"P(draw elo) = {probability}\")\n"
   ]
  },
  {
   "cell_type": "markdown",
   "id": "1c81b038-e9cb-4578-b7e7-6c8ffd2360fe",
   "metadata": {},
   "source": [
    "Znając to możemy obliczyć szanse na zwycięstwo obu krajów."
   ]
  },
  {
   "cell_type": "code",
   "execution_count": 6,
   "id": "59d94c2b-c835-4f93-b30c-5f7e240680d3",
   "metadata": {},
   "outputs": [
    {
     "name": "stdout",
     "output_type": "stream",
     "text": [
      "Szansa na zwycięstwo Holandii: 59.03%. Szansa na zwycięstwo Polski: 18.35%\n"
     ]
    }
   ],
   "source": [
    "p_1w = p_1 - 1/2*p_d\n",
    "p_2w = p_2 - 1/2*p_d\n",
    "\n",
    "print(f\"Szansa na zwycięstwo Holandii: {p_1w*100:.2f}%. Szansa na zwycięstwo Polski: {p_2w*100:.2f}%\")"
   ]
  },
  {
   "cell_type": "markdown",
   "id": "b1828a5c-dc77-424e-85fc-05ba7c1a1378",
   "metadata": {},
   "source": [
    "Obliczyliśmy prawdopodobieństwo zwycięstwa. Natomiast przed nami kolejny problem. Typer wymagał od nas podania dokładnego wyniku spotkania. Jak to zrobić? Istnieje kilka podejśc, logicznie im większa róznica elo pomiędzy drużynami, tym większa szana na większą różnice goli. Natomiast, przyjąłem \"naiwne\" założenie, że na Euro, jako dużym turnieju, bardziej zależy drużynom żęby nie przegrać za wszelką cenę, i to zniweluje potencjalną większą ilośc bramek w meczu związaną z różnicą klas zespołów.\n",
    "\n",
    "Zdeccydowałem się więc losować z dystrybucji wyników historycznych meczów. Nie brałem pod uwagę przewagi grania meczów u siebie, bądź na wyjeździe, bo Euro jest rozgrywane na neutralnym gruncie. Tak więc dla meczów, w któ®ych jedna z drużyn wygrywa losuje z dystrybucji meczó, w których wygrała drużyna gospodarzy."
   ]
  },
  {
   "cell_type": "code",
   "execution_count": 14,
   "id": "3aeb9c33-e796-4f40-b709-d298e16ae3bb",
   "metadata": {},
   "outputs": [],
   "source": [
    "import random"
   ]
  },
  {
   "cell_type": "markdown",
   "id": "4da80703-0183-4392-91d3-2221ca1e7b7b",
   "metadata": {},
   "source": [
    "Na przykład wynik 1-1 pada 11% meczów, a drużyna gospodarzy wygrywa 4-0 w 2% spotkań. "
   ]
  },
  {
   "cell_type": "code",
   "execution_count": 15,
   "id": "c8655abe-8a51-4455-8ce9-0fb761094c06",
   "metadata": {},
   "outputs": [],
   "source": [
    "remis = {\"1-1\": 0.11, \"0-0\": 0.077, \"2-2\": 0.047, \"3-3\": 0.01, \"4-4\": 0.001}\n",
    "home = {\"1-0\": 0.105, \"2-1\": 0.085, \"2-0\": 0.073,\"3-0\": 4.3/100, \"3-1\": 4.2/100, \"3-2\": 2.5/100, \"4-0\": 0.02, \"4-1\": 0.018, \"4-2\" : 0.01, \"5-0\": 0.008, \"4-3\": 0.004}"
   ]
  },
  {
   "cell_type": "markdown",
   "id": "78c8b353-1088-4eb8-bcf7-8e08bb7cb33d",
   "metadata": {},
   "source": [
    "za https://footystats.org/stats/common-score"
   ]
  },
  {
   "cell_type": "markdown",
   "id": "351e6fc7-6314-44c7-99c9-acdeb4f514a5",
   "metadata": {},
   "source": [
    "Przykładowo, jeśli kod uzna, że będzie remis, to wynik będzie losowany w poniższy sposób. "
   ]
  },
  {
   "cell_type": "code",
   "execution_count": 26,
   "id": "8456fcaf-1191-4f27-891d-acbdbb056562",
   "metadata": {},
   "outputs": [
    {
     "name": "stdout",
     "output_type": "stream",
     "text": [
      "0-0\n"
     ]
    }
   ],
   "source": [
    "# Losuję wartość z przedziału (0, suma prawdopodobieństw remisów)\n",
    "# wartość pomiędzy (0,0.11) oznacza 1-1, (0.11, 0.187) 0-0 itd.\n",
    "suma = sum(remis.values())\n",
    "test = random.uniform(0,suma)\n",
    "for ele in remis:\n",
    "    if remis[ele] >= test:\n",
    "        wynik = ele\n",
    "        break\n",
    "    else:\n",
    "        test -= remis[ele]\n",
    "print(wynik)"
   ]
  },
  {
   "cell_type": "code",
   "execution_count": 28,
   "id": "2662c72b-d85d-43b9-9234-629832b201d7",
   "metadata": {},
   "outputs": [],
   "source": [
    "def wygeneruj_wynik(elo1, elo2):\n",
    "    # Liczę oczekiwany wynik każdego gracza: P zwycięstwa + 1/2 * P remisu\n",
    "    p_1 = 1/(1 + 10**((elo2-elo1)/400))\n",
    "    p_2 = 1 - p_1\n",
    "    \n",
    "    dr = elo1-elo2\n",
    "    #dr = 289\n",
    "    gora_exp = (dr/200)**2\n",
    "    dol_exp = (2*np.e**2)\n",
    "    exxxp = (-(gora_exp/dol_exp))\n",
    "    stala = 1/(np.sqrt(2 * np.pi*np.e))\n",
    "    # P remisu\n",
    "    p_d = stala * (np.exp(exxxp))\n",
    "    \n",
    "    p_1w = p_1 - 1/2*p_d\n",
    "    p_2w = p_2 - 1/2*p_d\n",
    "    #print(p_d)\n",
    "\n",
    "    # Losowanie zwycięstwy za pomocą obliczonych prawdopodobieństw\n",
    "    zwyciezca = random.choices([1,0,2], weights = [p_1w, p_d, p_2w], k=1)[0]\n",
    "\n",
    "    # Jeśli remis\n",
    "    if zwyciezca == 0:\n",
    "        suma = sum(remis.values())\n",
    "        test = random.uniform(0,suma)\n",
    "        for ele in remis:\n",
    "            tenruch = remis[ele]\n",
    "            if remis[ele] >= test:\n",
    "                wynik = ele\n",
    "                break\n",
    "            else:\n",
    "                test -= remis[ele]\n",
    "    # Jeśli mamy zwycięzcę\n",
    "    else:\n",
    "        suma = sum(home.values())\n",
    "        test = random.uniform(0,suma)\n",
    "        for ele in home:\n",
    "            tenruch = home[ele]\n",
    "            if home[ele] >= test:\n",
    "                wynik = ele\n",
    "                break\n",
    "            else:\n",
    "                test -= home[ele]  \n",
    "\n",
    "    if zwyciezca == 2:\n",
    "        wynik = wynik[::-1]\n",
    "    \n",
    "    return f\"Wynik: {zwyciezca}, rezultat {wynik}\""
   ]
  },
  {
   "cell_type": "code",
   "execution_count": 32,
   "id": "e88bec25-339e-49b8-a195-21f6484bb118",
   "metadata": {},
   "outputs": [
    {
     "data": {
      "text/plain": [
       "'Wynik: 1, rezultat 2-1'"
      ]
     },
     "execution_count": 32,
     "metadata": {},
     "output_type": "execute_result"
    }
   ],
   "source": [
    "# Przykład\n",
    "# Drużyna 1: 1920 elo\n",
    "# Drużyna 2: 1832 elo\n",
    "wygeneruj_wynik(1920, 1832)"
   ]
  },
  {
   "cell_type": "code",
   "execution_count": 37,
   "id": "fef8e6f6-0cc7-4c94-a4e7-9d6086262b20",
   "metadata": {},
   "outputs": [
    {
     "name": "stdout",
     "output_type": "stream",
     "text": [
      "Hiszpania, Francja, Wynik: 0, rezultat 1-1\n",
      "Holandia - Anglia, Wynik: 2, rezultat 2-3\n",
      "Hiszpania, Holandia, Wynik: 1, rezultat 3-0\n",
      "Francja - Anglia, Wynik: 1, rezultat 2-1\n",
      "Hiszpania, Anglia, Wynik: 0, rezultat 2-2\n",
      "Francja - Holandia, Wynik: 0, rezultat 0-0\n"
     ]
    }
   ],
   "source": [
    "# Przewiduję każdą kombinację wyników pomiędzy zespołami \n",
    "last4 = {\"Hiszpania\": 2112, \"Francja\": 2069, \"Holandia\": 1989, \"Anglia\" : 1971}\n",
    "#grupaA = {\"Czechy\": 1777, \"Turcja\": 1749, \"Gruzja\": 1666, \"portugalia\" : 2003}\n",
    "\n",
    "for i in range(3):\n",
    "    lista = [1,2,3]\n",
    "    gracze = list(last4.keys())\n",
    "    print(f\"{gracze[0]}, {gracze[lista[i]]}, {wygeneruj_wynik(last4[gracze[0]], last4[gracze[lista[i]]])}\")\n",
    "    del lista[i]\n",
    "    print(f\"{gracze[lista[0]]} - {gracze[lista[1]]}, {wygeneruj_wynik(last4[gracze[lista[0]]], last4[gracze[lista[1]]])}\")"
   ]
  },
  {
   "cell_type": "code",
   "execution_count": null,
   "id": "7133bfa7-ff37-4964-b775-14ea60dde1b9",
   "metadata": {},
   "outputs": [],
   "source": []
  }
 ],
 "metadata": {
  "kernelspec": {
   "display_name": "Python 3 (ipykernel)",
   "language": "python",
   "name": "python3"
  },
  "language_info": {
   "codemirror_mode": {
    "name": "ipython",
    "version": 3
   },
   "file_extension": ".py",
   "mimetype": "text/x-python",
   "name": "python",
   "nbconvert_exporter": "python",
   "pygments_lexer": "ipython3",
   "version": "3.11.6"
  }
 },
 "nbformat": 4,
 "nbformat_minor": 5
}
